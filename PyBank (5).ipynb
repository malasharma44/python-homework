{
 "cells": [
  {
   "cell_type": "code",
   "execution_count": 131,
   "id": "removed-kernel",
   "metadata": {},
   "outputs": [],
   "source": [
    "import pandas as pd\n",
    "import numpy as np\n",
    "import csv\n",
    "from pathlib import Path\n",
    "import os"
   ]
  },
  {
   "cell_type": "code",
   "execution_count": 132,
   "id": "peripheral-jordan",
   "metadata": {},
   "outputs": [],
   "source": [
    "csvpath = Path('02-Python_Assignment_PyBank_Resources_budget_data.csv')"
   ]
  },
  {
   "cell_type": "code",
   "execution_count": 133,
   "id": "minor-explanation",
   "metadata": {},
   "outputs": [],
   "source": [
    "total_months = []\n",
    "total_profit = []\n",
    "change_in_profits = []"
   ]
  },
  {
   "cell_type": "code",
   "execution_count": 136,
   "id": "offensive-rocket",
   "metadata": {},
   "outputs": [
    {
     "name": "stdout",
     "output_type": "stream",
     "text": [
      "02-Python_Assignment_PyBank_Resources_budget_data.csv\n"
     ]
    }
   ],
   "source": [
    "print(csvpath)"
   ]
  },
  {
   "cell_type": "code",
   "execution_count": 139,
   "id": "satisfactory-steps",
   "metadata": {},
   "outputs": [],
   "source": [
    "with open('02-Python_Assignment_PyBank_Resources_budget_data.csv') as csvfile:\n",
    "    csvreader = csv.reader(csvfile, delimiter=',')\n",
    "    header = next(csvreader)\n",
    "    for row in csvreader:\n",
    "        total_months.append(row[0])\n",
    "        total_profit.append(int(row[1]))"
   ]
  },
  {
   "cell_type": "code",
   "execution_count": 141,
   "id": "plastic-worth",
   "metadata": {},
   "outputs": [],
   "source": [
    "for i in range(len(total_profit)-1):\n",
    "    change_in_profits.append(total_profit[i+1]-total_profit[i])"
   ]
  },
  {
   "cell_type": "code",
   "execution_count": 86,
   "id": "leading-above",
   "metadata": {},
   "outputs": [
    {
     "name": "stdout",
     "output_type": "stream",
     "text": [
      "Date             Jan-2010Feb-2010Mar-2010Apr-2010May-2010Jun-20...\n",
      "Profit/Losses                                             38382578\n",
      "dtype: object\n"
     ]
    }
   ],
   "source": [
    "sum_of_columns = df.sum(axis=0)\n",
    "print(sum_of_columns)"
   ]
  },
  {
   "cell_type": "code",
   "execution_count": 87,
   "id": "recognized-architecture",
   "metadata": {},
   "outputs": [
    {
     "name": "stdout",
     "output_type": "stream",
     "text": [
      "        Date  Profit/Losses\n",
      "81  Oct-2016         102685\n",
      "82  Nov-2016         795914\n",
      "83  Dec-2016          60988\n",
      "84  Jan-2017         138230\n",
      "85  Feb-2017         671099\n"
     ]
    }
   ],
   "source": [
    "print(df.tail())"
   ]
  },
  {
   "cell_type": "code",
   "execution_count": 88,
   "id": "annual-november",
   "metadata": {},
   "outputs": [
    {
     "name": "stdout",
     "output_type": "stream",
     "text": [
      "Total Number of Months Included in the Dataset = 85\n"
     ]
    }
   ],
   "source": [
    "print(\"Total Number of Months Included in the Dataset = 85\")"
   ]
  },
  {
   "cell_type": "code",
   "execution_count": 89,
   "id": "tender-gibson",
   "metadata": {},
   "outputs": [
    {
     "name": "stdout",
     "output_type": "stream",
     "text": [
      "86\n"
     ]
    }
   ],
   "source": [
    "Total_Number_of_Months = df['Date'].count()\n",
    "print(Total_Number_of_Months)"
   ]
  },
  {
   "cell_type": "code",
   "execution_count": 90,
   "id": "experienced-stanford",
   "metadata": {},
   "outputs": [],
   "source": [
    "total_profit = df['Profit/Losses'].sum()"
   ]
  },
  {
   "cell_type": "code",
   "execution_count": 91,
   "id": "placed-monster",
   "metadata": {},
   "outputs": [],
   "source": [
    "change_in_profits = df['Profit/Losses'].max()"
   ]
  },
  {
   "cell_type": "code",
   "execution_count": 92,
   "id": "several-sailing",
   "metadata": {},
   "outputs": [],
   "source": [
    "with open(load_path) as df:\n",
    "    header = next(df)"
   ]
  },
  {
   "cell_type": "code",
   "execution_count": 143,
   "id": "regional-stress",
   "metadata": {},
   "outputs": [
    {
     "name": "stdout",
     "output_type": "stream",
     "text": [
      "1926159\n"
     ]
    }
   ],
   "source": [
    "max_increase_value = max(change_in_profits)\n",
    "max_decrease_value = min(change_in_profits)\n",
    "print(max_increase_value)"
   ]
  },
  {
   "cell_type": "code",
   "execution_count": 146,
   "id": "usual-bloom",
   "metadata": {},
   "outputs": [],
   "source": [
    "max_increase_month = change_in_profits.index(max(change_in_profits)) + 1\n",
    "max_decrease_month = change_in_profits.index(min(change_in_profits)) + 1"
   ]
  },
  {
   "cell_type": "code",
   "execution_count": 152,
   "id": "portable-array",
   "metadata": {},
   "outputs": [
    {
     "name": "stdout",
     "output_type": "stream",
     "text": [
      "----------------------------------\n",
      "Financial Analysis\n",
      "----------------------------------\n",
      "Total Months: 258\n",
      "Total: $115147734\n",
      "Average Change: -765.7\n",
      "Greatest Increase in Profits: Feb-2012 ($1926159)\n",
      "Greatest Decrease in Profits: Sep-2013 ($-2196167)\n"
     ]
    }
   ],
   "source": [
    "print(\"----------------------------------\")\n",
    "print(\"Financial Analysis\")\n",
    "print(\"----------------------------------\")\n",
    "print(f\"Total Months: {len(total_months)}\")\n",
    "print(f\"Total: ${sum(total_profit)}\")\n",
    "print(f\"Average Change: {round(sum(change_in_profits)/len(change_in_profits),2)}\")\n",
    "print(f\"Greatest Increase in Profits: {total_months[max_increase_month]} (${str(max_increase_value)})\")\n",
    "print(f\"Greatest Decrease in Profits: {total_months[max_decrease_month]} (${(str(max_decrease_value))})\")                         "
   ]
  }
 ],
 "metadata": {
  "kernelspec": {
   "display_name": "Python 3",
   "language": "python",
   "name": "python3"
  },
  "language_info": {
   "codemirror_mode": {
    "name": "ipython",
    "version": 3
   },
   "file_extension": ".py",
   "mimetype": "text/x-python",
   "name": "python",
   "nbconvert_exporter": "python",
   "pygments_lexer": "ipython3",
   "version": "3.8.5"
  }
 },
 "nbformat": 4,
 "nbformat_minor": 5
}
